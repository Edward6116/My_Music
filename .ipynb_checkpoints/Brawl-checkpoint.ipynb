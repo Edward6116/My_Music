{
 "cells": [
  {
   "cell_type": "code",
   "execution_count": null,
   "metadata": {},
   "outputs": [],
   "source": [
    "import random\n",
    "import time\n",
    "PC = 0\n",
    "NPC = 0\n",
    "PC_HP = 0\n",
    "NPC_HP = 75\n",
    "hide = 0\n",
    "hide_reset = 0\n",
    "shield = 0\n",
    "shield_reset = 0\n",
    "burn = 0\n",
    "burn_timer = 0\n",
    "heal_timer = 0\n",
    "gobs = 1\n",
    "marked = 0\n",
    "braved = 0\n",
    "defend = 0\n",
    "stun = 0\n",
    "turns = 0\n",
    "fell = 0\n",
    "damage = 0\n",
    "\n",
    "def Brawl():\n",
    "    global PC\n",
    "    global PC_HP\n",
    "    print \"We are sorry, but we don't have every simulation complete at the time. We only have Hunter, Mage, Goblin, Knight complete.\"\n",
    "    PC = raw_input(\"What are you?(easy-hard) Hunter(1), Mage(2), Goblin(3), Kight(4), Beast(5)\\n\")\n",
    "    if PC == '1':\n",
    "        PC_HP = 50\n",
    "        Hunter()\n",
    "    elif PC == '2':\n",
    "        PC_HP = 35\n",
    "        Mage()\n",
    "    elif PC == '3':\n",
    "        PC_HP = 25\n",
    "        Goblin()\n",
    "    elif PC == '4':\n",
    "        PC_HP = 75\n",
    "        Knight()\n",
    "    elif PC == '5':\n",
    "        PC_HP = 100\n",
    "        Beast()\n",
    "    elif PC == 'TIM!':\n",
    "        PC_HP = 999\n",
    "        God()\n",
    "    else:\n",
    "        print \"Sorry that is an unvalid input. Simulation will rest. Please use a valic input.\"\n",
    "        time.sleep(3)\n",
    "        Brawl()"
   ]
  }
 ],
 "metadata": {
  "kernelspec": {
   "display_name": "Python 2",
   "language": "python",
   "name": "python2"
  },
  "language_info": {
   "codemirror_mode": {
    "name": "ipython",
    "version": 2
   },
   "file_extension": ".py",
   "mimetype": "text/x-python",
   "name": "python",
   "nbconvert_exporter": "python",
   "pygments_lexer": "ipython2",
   "version": "2.7.15"
  }
 },
 "nbformat": 4,
 "nbformat_minor": 2
}
