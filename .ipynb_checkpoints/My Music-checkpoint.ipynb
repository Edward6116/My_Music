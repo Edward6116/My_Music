{
 "cells": [
  {
   "cell_type": "code",
   "execution_count": 1,
   "metadata": {},
   "outputs": [],
   "source": [
    "import time\n",
    "import webbrowser\n",
    "import random\n",
    "\n",
    "def PlayMusic():\n",
    "    ad = 5\n",
    "    request = raw_input (\"What song would you like to listen too?\\n Immigrant Song(1)\\n Zombie(2)\\n Bohemian Rhapsody(3)\\n High Hopes(4)\\n Demons(5)\\n Back From the Dead(6)\\n Random(R)\\n\")\n",
    "    if request == '1':\n",
    "        webbrowser.open(\"https://www.youtube.com/watch?v=5eHkjPCGXKQ\")\n",
    "        time.sleep(147)\n",
    "        ad - 1\n",
    "    elif request == '2':\n",
    "        webbrowser.open(\"https://www.youtube.com/watch?v=m-Q0Ng61bT4\")\n",
    "        time.sleep(255)\n",
    "        ad -1\n",
    "    elif request == '3':\n",
    "        webbrowser.open(\"https://www.youtube.com/watch?v=fJ9rUzIMcZQ\")\n",
    "        time.sleep(367)\n",
    "        ad - 1\n",
    "    elif request == '4':\n",
    "        webbrowser.open(\"https://www.youtube.com/watch?v=GJY8OMJXRAk\")\n",
    "        time.sleep(191)\n",
    "        ad - 1\n",
    "    elif request == '5':\n",
    "        webbrowser.open(\"https://www.youtube.com/watch?v=LqI78S14Wgg\")\n",
    "        time.sleep(183)\n",
    "        ad - 1\n",
    "    elif request == '6':\n",
    "        webbrowser.open(\"https://www.youtube.com/watch?v=W44HrKFTPaE\")\n",
    "        time.sleep(214)\n",
    "        ad - 1\n",
    "    elif request == 'R':\n",
    "        Shuffle()\n",
    "    else:\n",
    "        print \"Sorry that input was invalid. Please try again in a moment.\"\n",
    "        time.sleep(3)\n",
    "        PlayMusic()\n",
    "    if ad == 0:\n",
    "        webbrowser.open(\"https://www.youtube.com/watch?v=brNGDA5R048\")\n",
    "        time.sleep(140)\n",
    "        ad + 5\n",
    "        PlayMusic()\n",
    "    else:\n",
    "        PlayMusic()"
   ]
  },
  {
   "cell_type": "code",
   "execution_count": null,
   "metadata": {},
   "outputs": [
    {
     "name": "stdout",
     "output_type": "stream",
     "text": [
      "What song would you like to listen too?\n",
      " Immigrant Song(1)\n",
      " Zombie(2)\n",
      " Bohemian Rhapsody(3)\n",
      " High Hopes(4)\n",
      " Demons(5)\n",
      " Back From the Dead(6)\n",
      " Random(R)\n",
      "6\n"
     ]
    }
   ],
   "source": [
    "PlayMusic()"
   ]
  },
  {
   "cell_type": "code",
   "execution_count": 6,
   "metadata": {},
   "outputs": [],
   "source": [
    "def Shuffle():\n",
    "        song = (random.randint(1,6))\n",
    "        if song == '1':\n",
    "            webbrowser.open(\"https://www.youtube.com/watch?v=5eHkjPCGXKQ\")\n",
    "            time.sleep(147)\n",
    "            ad - 1\n",
    "        elif song == '2':\n",
    "            webbrowser.open(\"https://www.youtube.com/watch?v=m-Q0Ng61bT4\")\n",
    "            time.sleep(255)\n",
    "            ad - 1\n",
    "        elif song == '3':\n",
    "            webbrowser.open(\"https://www.youtube.com/watch?v=fJ9rUzIMcZQ\")\n",
    "            time.sleep(367)\n",
    "            ad - 1\n",
    "        elif song == '4':\n",
    "            webbrowser.open(\"https://www.youtube.com/watch?v=GJY8OMJXRAk\")\n",
    "            time.sleep(191)\n",
    "            ad - 1\n",
    "        elif song == '5':\n",
    "            webbrowser.open(\"https://www.youtube.com/watch?v=LqI78S14Wgg\")\n",
    "            time.sleep(183)\n",
    "            ad - 1 \n",
    "        elif song == '6':\n",
    "            webbrowser.open(\"https://www.youtube.com/watch?v=W44HrKFTPaE\")\n",
    "            time.sleep(214)\n",
    "            ad - 1"
   ]
  },
  {
   "cell_type": "code",
   "execution_count": 7,
   "metadata": {},
   "outputs": [],
   "source": [
    "Shuffle()"
   ]
  },
  {
   "cell_type": "code",
   "execution_count": null,
   "metadata": {},
   "outputs": [],
   "source": []
  }
 ],
 "metadata": {
  "kernelspec": {
   "display_name": "Python 2",
   "language": "python",
   "name": "python2"
  },
  "language_info": {
   "codemirror_mode": {
    "name": "ipython",
    "version": 2
   },
   "file_extension": ".py",
   "mimetype": "text/x-python",
   "name": "python",
   "nbconvert_exporter": "python",
   "pygments_lexer": "ipython2",
   "version": "2.7.15"
  }
 },
 "nbformat": 4,
 "nbformat_minor": 2
}
