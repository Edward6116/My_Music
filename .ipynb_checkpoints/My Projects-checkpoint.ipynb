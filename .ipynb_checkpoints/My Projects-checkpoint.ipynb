{
 "cells": [
  {
   "cell_type": "code",
   "execution_count": 1,
   "metadata": {},
   "outputs": [],
   "source": [
    "import time\n",
    "import webbrowser\n",
    "import random\n",
    "ad = 5\n",
    "\n",
    "def PlayMusic():\n",
    "    request = raw_input (\"What song would you like to listen too?\\n Immigrant Song(1)\\n Zombie(2)\\n Bohemian Rhapsody(3)\\n High Hopes(4)\\n Demons(5)\\n Back From the Dead(6)\\n\")\n",
    "    if request == '1':\n",
    "        webbrowser.open(\"https://www.youtube.com/watch?v=5eHkjPCGXKQ\")\n",
    "        time.sleep(147)\n",
    "        ad -= 1\n",
    "    elif request == '2':\n",
    "        webbrowser.open(\"https://www.youtube.com/watch?v=m-Q0Ng61bT4\")\n",
    "        time.sleep(255)\n",
    "        ad -= 1\n",
    "    elif request == '3':\n",
    "        webbrowser.open(\"https://www.youtube.com/watch?v=fJ9rUzIMcZQ\")\n",
    "        time.sleep(367)\n",
    "        ad -= 1\n",
    "    elif request == '4':\n",
    "        webbrowser.open(\"https://www.youtube.com/watch?v=GJY8OMJXRAk\")\n",
    "        time.sleep(191)\n",
    "        ad -= 1\n",
    "    elif request == '5':\n",
    "        webbrowser.open(\"https://www.youtube.com/watch?v=LqI78S14Wgg\")\n",
    "        time.sleep(183)\n",
    "        ad -= 1\n",
    "    elif request == '6':\n",
    "        webbrowser.open(\"https://www.youtube.com/watch?v=W44HrKFTPaE\")\n",
    "        time.sleep(214)\n",
    "        ad -= 1\n",
    "    elif request == 'off':\n",
    "        print \"See you later.\"\n",
    "    else:\n",
    "        print \"Sorry that input was invalid. Please try again in a moment.\"\n",
    "        time.sleep(3)\n",
    "        PlayMusic()\n",
    "    if ad == 0:\n",
    "        webbrowser.open(\"https://www.youtube.com/watch?v=brNGDA5R048\")\n",
    "        time.sleep(140)\n",
    "        ad += 5\n",
    "        PlayMusic()\n",
    "    else:\n",
    "        PlayMusic()"
   ]
  },
  {
   "cell_type": "code",
   "execution_count": null,
   "metadata": {},
   "outputs": [],
   "source": []
  },
  {
   "cell_type": "code",
   "execution_count": 12,
   "metadata": {},
   "outputs": [],
   "source": [
    "import random\n",
    "\n",
    "def Brawle()\n",
    "    PC = raw_input(\"What are you?(easy-hard) Hunter(1), Fighter(2), Goblin(3), Wizard(4), or Drake(5)\")\n",
    "    if PC == '1':\n",
    "        print \"Your abilities are:\\n Arrow - 5x\\n Flee - "
   ]
  },
  {
   "cell_type": "code",
   "execution_count": 13,
   "metadata": {},
   "outputs": [],
   "source": []
  },
  {
   "cell_type": "code",
   "execution_count": null,
   "metadata": {},
   "outputs": [],
   "source": []
  }
 ],
 "metadata": {
  "kernelspec": {
   "display_name": "Python 2",
   "language": "python",
   "name": "python2"
  },
  "language_info": {
   "codemirror_mode": {
    "name": "ipython",
    "version": 2
   },
   "file_extension": ".py",
   "mimetype": "text/x-python",
   "name": "python",
   "nbconvert_exporter": "python",
   "pygments_lexer": "ipython2",
   "version": "2.7.15"
  }
 },
 "nbformat": 4,
 "nbformat_minor": 2
}
