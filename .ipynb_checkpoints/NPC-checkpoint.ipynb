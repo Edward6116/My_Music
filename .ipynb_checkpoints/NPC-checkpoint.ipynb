{
 "cells": [
  {
   "cell_type": "code",
   "execution_count": 8,
   "metadata": {},
   "outputs": [
    {
     "ename": "UnboundLocalError",
     "evalue": "local variable 'PC_HP' referenced before assignment",
     "output_type": "error",
     "traceback": [
      "\u001b[1;31m---------------------------------------------------------------------------\u001b[0m",
      "\u001b[1;31mUnboundLocalError\u001b[0m                         Traceback (most recent call last)",
      "\u001b[1;32m<ipython-input-8-2ce6108851be>\u001b[0m in \u001b[0;36m<module>\u001b[1;34m()\u001b[0m\n\u001b[0;32m     23\u001b[0m         \u001b[1;32mprint\u001b[0m \u001b[1;34m\"The oppenent used the Bolt spell.\"\u001b[0m\u001b[1;33m\u001b[0m\u001b[0m\n\u001b[0;32m     24\u001b[0m \u001b[1;33m\u001b[0m\u001b[0m\n\u001b[1;32m---> 25\u001b[1;33m \u001b[0mdamage\u001b[0m\u001b[1;33m(\u001b[0m\u001b[1;33m)\u001b[0m\u001b[1;33m\u001b[0m\u001b[0m\n\u001b[0m",
      "\u001b[1;32m<ipython-input-8-2ce6108851be>\u001b[0m in \u001b[0;36mdamage\u001b[1;34m()\u001b[0m\n\u001b[0;32m     16\u001b[0m         \u001b[1;32mprint\u001b[0m \u001b[1;34m\"The oppenent swungs their blade.\"\u001b[0m\u001b[1;33m\u001b[0m\u001b[0m\n\u001b[0;32m     17\u001b[0m     \u001b[1;32melif\u001b[0m \u001b[0mNPC_Act\u001b[0m \u001b[1;33m==\u001b[0m \u001b[1;36m2\u001b[0m\u001b[1;33m:\u001b[0m\u001b[1;33m\u001b[0m\u001b[0m\n\u001b[1;32m---> 18\u001b[1;33m         \u001b[0mPC_HP\u001b[0m \u001b[1;33m-=\u001b[0m \u001b[1;36m5\u001b[0m\u001b[1;33m\u001b[0m\u001b[0m\n\u001b[0m\u001b[0;32m     19\u001b[0m         \u001b[0mfell\u001b[0m \u001b[1;33m+=\u001b[0m \u001b[1;36m1\u001b[0m\u001b[1;33m\u001b[0m\u001b[0m\n\u001b[0;32m     20\u001b[0m         \u001b[1;32mprint\u001b[0m \u001b[1;34m\"The oppenent charged with their shield.\"\u001b[0m\u001b[1;33m\u001b[0m\u001b[0m\n",
      "\u001b[1;31mUnboundLocalError\u001b[0m: local variable 'PC_HP' referenced before assignment"
     ]
    }
   ],
   "source": [
    "import random\n",
    "PC = 0\n",
    "NPC = 0\n",
    "NPC_HP = 75\n",
    "fell = 0\n",
    "damage = 0\n",
    "\n",
    "def Damage():\n",
    "    import random\n",
    "    global NPC_Act\n",
    "    global PC_HP\n",
    "    global fell\n",
    "    fell = 0\n",
    "    NPC_Act = (random.randint(1,3))\n",
    "    if NPC_Act == 1:\n",
    "        damage = 10\n",
    "        print \"The oppenent swungs their blade.\"\n",
    "    elif NPC_Act == 2:\n",
    "        damage = 5\n",
    "        fell = 1\n",
    "        print \"The oppenent charged with their shield.\"\n",
    "    else:\n",
    "        damage -= 15\n",
    "        print \"The oppenent used the Bolt spell.\""
   ]
  },
  {
   "cell_type": "code",
   "execution_count": null,
   "metadata": {},
   "outputs": [],
   "source": []
  }
 ],
 "metadata": {
  "kernelspec": {
   "display_name": "Python 2",
   "language": "python",
   "name": "python2"
  },
  "language_info": {
   "codemirror_mode": {
    "name": "ipython",
    "version": 2
   },
   "file_extension": ".py",
   "mimetype": "text/x-python",
   "name": "python",
   "nbconvert_exporter": "python",
   "pygments_lexer": "ipython2",
   "version": "2.7.15"
  }
 },
 "nbformat": 4,
 "nbformat_minor": 2
}
