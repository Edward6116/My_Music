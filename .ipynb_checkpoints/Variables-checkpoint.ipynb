{
 "cells": [
  {
   "cell_type": "code",
   "execution_count": null,
   "metadata": {},
   "outputs": [],
   "source": [
    "import random\n",
    "import time\n",
    "global PC\n",
    "global PC_HP\n",
    "global NPC_HP\n",
    "global shield\n",
    "global sheild_reset\n",
    "global burn\n",
    "global burn_timer\n",
    "global heal_timer\n",
    "global gobs\n",
    "global marked\n",
    "global braved\n",
    "global defend\n",
    "global stun\n",
    "global turns\n",
    "global fell\n",
    "global damage\n",
    "\n",
    "PC = 0\n",
    "NPC = 0\n",
    "PC_HP = 0\n",
    "NPC_HP = 75\n",
    "hide = 0\n",
    "hide_reset = 0\n",
    "shield = 0\n",
    "shield_reset = 0\n",
    "burn = 0\n",
    "burn_timer = 0\n",
    "heal_timer = 0\n",
    "gobs = 1\n",
    "marked = 0\n",
    "braved = 0\n",
    "defend = 0\n",
    "stun = 0\n",
    "turns = 0\n",
    "fell = 0\n",
    "damage"
   ]
  }
 ],
 "metadata": {
  "kernelspec": {
   "display_name": "Python 2",
   "language": "python",
   "name": "python2"
  },
  "language_info": {
   "codemirror_mode": {
    "name": "ipython",
    "version": 2
   },
   "file_extension": ".py",
   "mimetype": "text/x-python",
   "name": "python",
   "nbconvert_exporter": "python",
   "pygments_lexer": "ipython2",
   "version": "2.7.15"
  }
 },
 "nbformat": 4,
 "nbformat_minor": 2
}
