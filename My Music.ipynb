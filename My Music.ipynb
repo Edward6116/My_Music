{
 "cells": [
  {
   "cell_type": "code",
   "execution_count": 3,
   "metadata": {},
   "outputs": [
    {
     "ename": "ImportError",
     "evalue": "No module named ad",
     "output_type": "error",
     "traceback": [
      "\u001b[1;31m---------------------------------------------------------------------------\u001b[0m",
      "\u001b[1;31mImportError\u001b[0m                               Traceback (most recent call last)",
      "\u001b[1;32m<ipython-input-3-e7254a4bbd36>\u001b[0m in \u001b[0;36m<module>\u001b[1;34m()\u001b[0m\n\u001b[0;32m      3\u001b[0m \u001b[1;32mimport\u001b[0m \u001b[0mrandom\u001b[0m\u001b[1;33m\u001b[0m\u001b[0m\n\u001b[0;32m      4\u001b[0m \u001b[0mad\u001b[0m \u001b[1;33m=\u001b[0m \u001b[1;36m0\u001b[0m\u001b[1;33m\u001b[0m\u001b[0m\n\u001b[1;32m----> 5\u001b[1;33m \u001b[1;32mimport\u001b[0m \u001b[0mad\u001b[0m\u001b[1;33m\u001b[0m\u001b[0m\n\u001b[0m\u001b[0;32m      6\u001b[0m \u001b[1;33m\u001b[0m\u001b[0m\n\u001b[0;32m      7\u001b[0m \u001b[1;32mdef\u001b[0m \u001b[0mPlayMusic\u001b[0m\u001b[1;33m(\u001b[0m\u001b[1;33m)\u001b[0m\u001b[1;33m:\u001b[0m\u001b[1;33m\u001b[0m\u001b[0m\n",
      "\u001b[1;31mImportError\u001b[0m: No module named ad"
     ]
    }
   ],
   "source": [
    "import time\n",
    "import webbrowser\n",
    "import random\n",
    "\n",
    "def PlayMusic():\n",
    "    ad =\n",
    "    request = raw_input (\"What song would you like to listen too?\\n Immigrant Song(1)\\n Zombie(2)\\n Bohemian Rhapsody(3)\\n High Hopes(4)\\n Demons(5)\\n Back From the Dead(6)\\n or Random(r)\\n\")\n",
    "    if request == r:\n",
    "        request = random.randint(1,6)\n",
    "    else:\n",
    "        if request == '1':\n",
    "            webbrowser.open(\"https://www.youtube.com/watch?v=5eHkjPCGXKQ\")\n",
    "            time.sleep(147)\n",
    "            ad - 1\n",
    "        elif request == '2':\n",
    "            webbrowser.open(\"https://www.youtube.com/watch?v=m-Q0Ng61bT4\")\n",
    "            time.sleep(255)\n",
    "            ad - 1\n",
    "        elif request == '3':\n",
    "            webbrowser.open(\"https://www.youtube.com/watch?v=fJ9rUzIMcZQ\")\n",
    "            time.sleep(367)\n",
    "            ad - 1\n",
    "        elif request == '4':\n",
    "            webbrowser.open(\"https://www.youtube.com/watch?v=GJY8OMJXRAk\")\n",
    "            time.sleep(191)\n",
    "            ad - 1\n",
    "        elif request == '5':\n",
    "            webbrowser.open(\"https://www.youtube.com/watch?v=LqI78S14Wgg\")\n",
    "            time.sleep(183)\n",
    "            ad - 1 \n",
    "        elif request == '6':\n",
    "            webbrowser.open(\"https://www.youtube.com/watch?v=W44HrKFTPaE\")\n",
    "            time.sleep(214)\n",
    "            ad - 1\n",
    "    if request == '1':\n",
    "        webbrowser.open(\"https://www.youtube.com/watch?v=5eHkjPCGXKQ\")\n",
    "        time.sleep(147)\n",
    "        ad - 1\n",
    "    elif request == '2':\n",
    "        webbrowser.open(\"https://www.youtube.com/watch?v=m-Q0Ng61bT4\")\n",
    "        time.sleep(255)\n",
    "        ad -1\n",
    "    elif request == '3':\n",
    "        webbrowser.open(\"https://www.youtube.com/watch?v=fJ9rUzIMcZQ\")\n",
    "        time.sleep(367)\n",
    "        ad - 1\n",
    "    elif request == '4':\n",
    "        webbrowser.open(\"https://www.youtube.com/watch?v=GJY8OMJXRAk\")\n",
    "        time.sleep(191)\n",
    "        ad - 1\n",
    "    elif request == '5':\n",
    "        webbrowser.open(\"https://www.youtube.com/watch?v=LqI78S14Wgg\")\n",
    "        time.sleep(183)\n",
    "        ad - 1\n",
    "    elif request == '6':\n",
    "        webbrowser.open(\"https://www.youtube.com/watch?v=W44HrKFTPaE\")\n",
    "        time.sleep(214)\n",
    "        ad - 1\n",
    "    else:\n",
    "        print \"Sorry that input was invalid. Please try again in a moment.\"\n",
    "        time.sleep(3)\n",
    "        PlayMusic()\n",
    "    if ad == 0:\n",
    "        webbrowser.open(\"https://www.youtube.com/watch?v=brNGDA5R048\")\n",
    "        time.sleep(140)\n",
    "        ad + 5\n",
    "        PlayMusic()"
   ]
  },
  {
   "cell_type": "code",
   "execution_count": null,
   "metadata": {},
   "outputs": [],
   "source": []
  }
 ],
 "metadata": {
  "kernelspec": {
   "display_name": "Python 2",
   "language": "python",
   "name": "python2"
  },
  "language_info": {
   "codemirror_mode": {
    "name": "ipython",
    "version": 2
   },
   "file_extension": ".py",
   "mimetype": "text/x-python",
   "name": "python",
   "nbconvert_exporter": "python",
   "pygments_lexer": "ipython2",
   "version": "2.7.15"
  }
 },
 "nbformat": 4,
 "nbformat_minor": 2
}
